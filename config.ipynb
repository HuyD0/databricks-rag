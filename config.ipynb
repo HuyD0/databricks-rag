{
 "cells": [
  {
   "cell_type": "code",
   "execution_count": 0,
   "metadata": {
    "application/vnd.databricks.v1+cell": {
     "cellMetadata": {},
     "inputWidgets": {},
     "nuid": "70d246cb-847e-4514-9b49-615f1a8581fd",
     "showTitle": false,
     "tableResultSettingsMap": {},
     "title": ""
    }
   },
   "outputs": [],
   "source": [
    "%pip install azure-ai-inference azure-identity dotenv semantic-kernel flask azure-ai-documentintelligence pandas azure-storage-blob langchain langchain-community langchain-openai langchainhub openai azure-search-documents mflow azure-ai-inference azure-ai-ml databricks-sdk mlflow databricks-agents --quiet\n",
    "dbutils.library.restartPython()"
   ]
  },
  {
   "cell_type": "code",
   "execution_count": 0,
   "metadata": {
    "application/vnd.databricks.v1+cell": {
     "cellMetadata": {
      "byteLimit": 2048000,
      "rowLimit": 10000
     },
     "inputWidgets": {},
     "nuid": "fe4c2d9a-d8c4-4b86-b003-a96ee658db38",
     "showTitle": false,
     "tableResultSettingsMap": {},
     "title": ""
    }
   },
   "outputs": [],
   "source": [
    "from azure.identity import DefaultAzureCredential, get_bearer_token_provider\n",
    "\n",
    "\n",
    "# --- Azure Credentials & Authentication ---\n",
    "azure_client_id = \"7318b99c-c3ab-483e-979f-34c7e6bad8ea\"\n",
    "azure_tenant_id = \"7f6a2cf9-5e4e-46ae-95d4-74016c1df1a6\"\n",
    "azure_client_secret = dbutils.secrets.get(scope=\"azure\", key=\"rag\")\n",
    "\n",
    "credential = DefaultAzureCredential()\n",
    "token_provider = get_bearer_token_provider(\n",
    "    credential, \"https://cognitiveservices.azure.com/.default\"\n",
    ")\n",
    "\n",
    "# --- MLflow Configuration ---\n",
    "MLFLOW_EXPERIMENT_PATH = \"/Users/huy.d@hotmail.com/RAG_with_Azure_AI_Search_exp\"\n",
    "MLFLOW_ACTIVE_MODEL_NAME = \"rag-dev\"\n",
    "MLFLOW_EXPERIMENT_TAGS = {\n",
    "    \"project\": \"RAG\",\n",
    "    \"domain\": \"DA\",\n",
    "    \"purpose\": \"Retrieval evaluation\"\n",
    "}\n",
    "\n",
    "# --- Azure Service Endpoints & Versions ---\n",
    "AZURE_OPENAI_ENDPOINT = \"https://aifoundry6666.openai.azure.com/\"\n",
    "AZURE_SEARCH_ENDPOINT = \"https://search6666.search.windows.net\"\n",
    "OPENAI_API_VERSION = \"2024-02-01\"\n",
    "COGNITIVE_SERVICES_SCOPE = \"https://cognitiveservices.azure.com/.default\"\n",
    "BLOB_SERVICE_SCOPE =\"https://storage.azure.com/.default\"\n",
    "\n",
    "# --- Azure Storage Configuration ---\n",
    "STORAGE_ACCOUNT_NAME = \"tfstate6666\"\n",
    "CONTAINER_NAME = \"pdfs\"\n",
    "STORAGE_ACCOUNT_URL=f\"https://{STORAGE_ACCOUNT_NAME}.blob.core.windows.net\"\n",
    "\n",
    "# --- Model & Embedding Configuration ---\n",
    "SEARCH_TYPE = \"HNSW\"\n",
    "CHAT_MODEL_DEPLOYMENT = \"gpt-4.1-mini\"\n",
    "EMBEDDING_MODEL_NAME = \"text-embedding-3-large\"\n",
    "EMBEDDING_DIMENSIONS = 3072\n",
    "GENERATION_TEMPERATURE = 0.1\n",
    "EMBEDDING_ENDPOINT = \"https://aifoundry6666.cognitiveservices.azure.com/openai/deployments/text-embedding-3-large/embeddings?api-version=2023-05-15\"\n",
    "\n",
    "# --- Data & RAG Configuration ---\n",
    "SOURCE_DELTA_TABLE = \"rag.development.md_chunks\"\n",
    "TOP_K = 5\n",
    "SYSTEM_MESSAGE_PROMPT = \"You are an intelligent assistant...\"\n",
    "AZURE_SEARCH_INDEX_NAME = \"ragamuffin-index\"\n",
    "CHUNK_OVERLAP = 128\n",
    "\n",
    "# --- Volume and Path Details ---\n",
    "catalog = 'rag'\n",
    "schema = 'development'\n",
    "volume = 'blob'\n",
    "folder = 'markdown'\n",
    "volume_path = f\"/Volumes/{catalog}/{schema}/{volume}/{folder}\"\n",
    "\n",
    "# --- Consolidated Configs Dictionary ---\n",
    "configs = {\n",
    "    \"azure_client_id\": azure_client_id,\n",
    "    \"azure_tenant_id\": azure_tenant_id,\n",
    "    \"azure_client_secret\": \"*****\",\n",
    "    \"MLFLOW_EXPERIMENT_PATH\": MLFLOW_EXPERIMENT_PATH,\n",
    "    \"MLFLOW_ACTIVE_MODEL_NAME\": MLFLOW_ACTIVE_MODEL_NAME,\n",
    "    \"MLFLOW_EXPERIMENT_TAGS\": MLFLOW_EXPERIMENT_TAGS,\n",
    "    \"AZURE_OPENAI_ENDPOINT\": AZURE_OPENAI_ENDPOINT,\n",
    "    \"AZURE_SEARCH_ENDPOINT\": AZURE_SEARCH_ENDPOINT,\n",
    "    \"OPENAI_API_VERSION\": OPENAI_API_VERSION,\n",
    "    \"COGNITIVE_SERVICES_SCOPE\": COGNITIVE_SERVICES_SCOPE,\n",
    "    \"STORAGE_ACCOUNT_NAME\": STORAGE_ACCOUNT_NAME,\n",
    "    \"CONTAINER_NAME\": CONTAINER_NAME,\n",
    "    \"STORAGE_ACCOUNT_URL\": STORAGE_ACCOUNT_URL,\n",
    "    \"SEARCH_TYPE\": SEARCH_TYPE,\n",
    "    \"CHAT_MODEL_DEPLOYMENT\": CHAT_MODEL_DEPLOYMENT,\n",
    "    \"EMBEDDING_MODEL_NAME\": EMBEDDING_MODEL_NAME,\n",
    "    \"EMBEDDING_DIMENSIONS\": EMBEDDING_DIMENSIONS,\n",
    "    \"GENERATION_TEMPERATURE\": GENERATION_TEMPERATURE,\n",
    "    \"EMBEDDING_ENDPOINT\": EMBEDDING_ENDPOINT,\n",
    "    \"SOURCE_DELTA_TABLE\": SOURCE_DELTA_TABLE,\n",
    "    \"TOP_K\": TOP_K,\n",
    "    \"SYSTEM_MESSAGE_PROMPT\": SYSTEM_MESSAGE_PROMPT,\n",
    "    \"AZURE_SEARCH_INDEX_NAME\": AZURE_SEARCH_INDEX_NAME,\n",
    "    \"CHUNK_OVERLAP\": CHUNK_OVERLAP,\n",
    "    \"catalog\": catalog,\n",
    "    \"schema\": schema,\n",
    "    \"volume\": volume,\n",
    "    \"folder\": folder,\n",
    "    \"volume_path\": volume_path\n",
    "}\n",
    "\n",
    "print(configs)\n"
   ]
  }
 ],
 "metadata": {
  "application/vnd.databricks.v1+notebook": {
   "computePreferences": null,
   "dashboards": [],
   "environmentMetadata": {
    "base_environment": "",
    "environment_version": "2"
   },
   "inputWidgetPreferences": null,
   "language": "python",
   "notebookMetadata": {
    "pythonIndentUnit": 4
   },
   "notebookName": "config",
   "widgets": {}
  },
  "language_info": {
   "name": "python"
  }
 },
 "nbformat": 4,
 "nbformat_minor": 0
}
