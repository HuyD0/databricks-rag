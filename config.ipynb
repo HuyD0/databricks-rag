{
 "cells": [
  {
   "cell_type": "code",
   "execution_count": 0,
   "metadata": {
    "application/vnd.databricks.v1+cell": {
     "cellMetadata": {},
     "inputWidgets": {},
     "nuid": "fe4c2d9a-d8c4-4b86-b003-a96ee658db38",
     "showTitle": false,
     "tableResultSettingsMap": {},
     "title": ""
    }
   },
   "outputs": [],
   "source": [
    "# Retrieve environment variables\n",
    "azure_client_id = \"7318b99c-c3ab-483e-979f-34c7e6bad8ea\"\n",
    "azure_tenant_id = \"7f6a2cf9-5e4e-46ae-95d4-74016c1df1a6\"\n",
    "azure_client_secret =  dbutils.secrets.get(scope=\"azure\",key=\"rag\")\n",
    "\n",
    "# Print the configurations\n",
    "print(\"Azure Client ID:\", azure_client_id)\n",
    "print(\"Azure Tenant ID:\", azure_tenant_id)\n",
    "\n",
    "\n",
    "# Additional configurations\n",
    "azure_openai_endpoint = \"https://aifoundry6666.openai.azure.com/\"\n",
    "deployment_name = \"gpt-4.1-mini\"\n",
    "\n",
    "print(\"Azure OpenAI Endpoint:\", azure_openai_endpoint)\n",
    "print(\"Deployment Name:\", deployment_name)"
   ]
  },
  {
   "cell_type": "code",
   "execution_count": 0,
   "metadata": {
    "application/vnd.databricks.v1+cell": {
     "cellMetadata": {},
     "inputWidgets": {},
     "nuid": "400092b1-caa1-48aa-a175-aa11a2ace166",
     "showTitle": false,
     "tableResultSettingsMap": {},
     "title": ""
    }
   },
   "outputs": [],
   "source": [
    "# config.py\n",
    "\n",
    "# --- MLflow Configuration ---\n",
    "MLFLOW_EXPERIMENT_PATH = \"/Users/huy.d@hotmail.com/RAG_with_Azure_AI_Search_exp\"\n",
    "MLFLOW_ACTIVE_MODEL_NAME = \"rag-dev\"\n",
    "MLFLOW_EXPERIMENT_TAGS = {\n",
    "    \"project\": \"RAG\",\n",
    "    \"domain\": \"DA\",\n",
    "    \"purpose\": \"Retrieval evaluation\"\n",
    "}\n",
    "\n",
    "# --- Azure Service Configuration ---\n",
    "# NOTE: The endpoint should be the base URL of your resource.\n",
    "AZURE_OPENAI_ENDPOINT = \"https://aifoundry6666.openai.azure.com/\" \n",
    "AZURE_SEARCH_ENDPOINT = \"https://search6666.search.windows.net\"\n",
    "OPENAI_API_VERSION = \"2024-02-01\"\n",
    "COGNITIVE_SERVICES_SCOPE = \"https://cognitiveservices.azure.com/.default\"\n",
    "\n",
    "# --- AI Model Configuration ---\n",
    "CHAT_MODEL_DEPLOYMENT = \"gpt-4.1-mini\"\n",
    "EMBEDDING_MODEL_NAME = \"text-embedding-3-large\"\n",
    "EMBEDDING_DIMENSIONS = 3072\n",
    "GENERATION_TEMPERATURE = 0.1\n",
    "\n",
    "# --- RAG Application Parameters ---\n",
    "SOURCE_DELTA_TABLE = \"rag.development.md_chunks\"\n",
    "TOP_K = 5\n",
    "SYSTEM_MESSAGE_PROMPT = \"You are an intelligent assistant...\"\n",
    "\n",
    "# ⚠️ --- Undefined Values (Replace these placeholders) --- ⚠️\n",
    "AZURE_SEARCH_INDEX_NAME = \"_YOUR_SEARCH_INDEX_NAME_HERE_\"\n",
    "CHUNK_OVERLAP = 128 # Placeholder, adjust as needed\n"
   ]
  }
 ],
 "metadata": {
  "application/vnd.databricks.v1+notebook": {
   "computePreferences": null,
   "dashboards": [],
   "environmentMetadata": {
    "base_environment": "",
    "environment_version": "2"
   },
   "inputWidgetPreferences": null,
   "language": "python",
   "notebookMetadata": {
    "pythonIndentUnit": 4
   },
   "notebookName": "config",
   "widgets": {}
  },
  "language_info": {
   "name": "python"
  }
 },
 "nbformat": 4,
 "nbformat_minor": 0
}
